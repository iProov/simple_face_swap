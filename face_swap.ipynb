{
 "cells": [
  {
   "cell_type": "code",
   "execution_count": 1,
   "metadata": {},
   "outputs": [],
   "source": [
    "import pandas as pd\n",
    "import matplotlib.pyplot as plt\n",
    "import numpy as np\n",
    "from ipresearch.data.image import Blobs\n",
    "import matplotlib.pyplot as plt\n",
    "bs = Blobs(\"/home/config.json\")"
   ]
  },
  {
   "cell_type": "code",
   "execution_count": 2,
   "metadata": {},
   "outputs": [],
   "source": [
    "df = pd.read_csv('data/data.csv', index_col = 'token')"
   ]
  },
  {
   "cell_type": "code",
   "execution_count": 3,
   "metadata": {},
   "outputs": [],
   "source": [
    "def normalize_data(data_dict, position):\n",
    "    return data_dict[str(position)]['x_ctr'] - data_dict['1']['x_ctr']\n",
    "\n",
    "def face_swap(data):\n",
    "    data_dict = eval(data)\n",
    "    for i in range(1,11):\n",
    "        try:\n",
    "            data_dict[str(i)]['x_ctr']\n",
    "        except KeyError:\n",
    "            try:\n",
    "                if (normalize_data(data_dict, i-1))**2 > (150)**2:\n",
    "                    return True\n",
    "                    #pass\n",
    "            except KeyError:\n",
    "                #return True\n",
    "                pass\n",
    "    "
   ]
  },
  {
   "cell_type": "code",
   "execution_count": 4,
   "metadata": {},
   "outputs": [
    {
     "name": "stdout",
     "output_type": "stream",
     "text": [
      "\"dbf2e12e5713ad189910fb95288245e2e2e3c7c02f6804b2346a84ac1801vi07\",\n",
      "\"12db9e272d2343e828fb1bb92ec7c543cf122a36f24c3de0e2a6f5f61801vi07\",\n",
      "\"4eccda7fbcc910831828ef7678a6338d2fd222e80a6698885de0f2421801vi07\",\n",
      "\"9c5176d0c6ef37e73bc85a2e61b01d4f71e0c0a211b1b36c376940371801vi07\",\n"
     ]
    }
   ],
   "source": [
    "for index, row in df.iterrows():\n",
    "    if face_swap(row['bb']) == True:\n",
    "        print('\"' + index + '\",')\n",
    "        #for i in range(10):\n",
    "            #plt.figure()\n",
    "            #img = bs.get_frame(index, frame=i, cluster=\"eu-prod\", return_array=True)\n",
    "            #plt.imshow(img)\n",
    "            #plt.show()"
   ]
  },
  {
   "cell_type": "code",
   "execution_count": null,
   "metadata": {},
   "outputs": [],
   "source": []
  }
 ],
 "metadata": {
  "kernelspec": {
   "display_name": "Python 3 (ipykernel)",
   "language": "python",
   "name": "python3"
  },
  "language_info": {
   "codemirror_mode": {
    "name": "ipython",
    "version": 3
   },
   "file_extension": ".py",
   "mimetype": "text/x-python",
   "name": "python",
   "nbconvert_exporter": "python",
   "pygments_lexer": "ipython3",
   "version": "3.8.12"
  }
 },
 "nbformat": 4,
 "nbformat_minor": 4
}
